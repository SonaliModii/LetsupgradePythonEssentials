{
  "nbformat": 4,
  "nbformat_minor": 0,
  "metadata": {
    "colab": {
      "name": "Letsupgrade-B7-Day4",
      "provenance": [],
      "collapsed_sections": [],
      "authorship_tag": "ABX9TyPgRHFnd6EYNNcoi5j86JnK",
      "include_colab_link": true
    },
    "kernelspec": {
      "name": "python3",
      "display_name": "Python 3"
    }
  },
  "cells": [
    {
      "cell_type": "markdown",
      "metadata": {
        "id": "view-in-github",
        "colab_type": "text"
      },
      "source": [
        "<a href=\"https://colab.research.google.com/github/SonaliModii/LetsupgradePythonEssentials/blob/master/Letsupgrade_B7_Day4.ipynb\" target=\"_parent\"><img src=\"https://colab.research.google.com/assets/colab-badge.svg\" alt=\"Open In Colab\"/></a>"
      ]
    },
    {
      "cell_type": "code",
      "metadata": {
        "id": "wOYgOelelIrn",
        "colab_type": "code",
        "colab": {
          "base_uri": "https://localhost:8080/",
          "height": 34
        },
        "outputId": "95c03463-00be-4f19-9484-ec4f73cb68b2"
      },
      "source": [
        " \n",
        "#Armstrong number\n",
        "upper = 702648265\n",
        "lowers=1042000\n",
        "for num in range (lowers, upper + 1):\n",
        "    o= len (str(num))\n",
        "    sum = 0\n",
        "    temp = num\n",
        "    while temp > 0:\n",
        "        x = temp % 10\n",
        "        sum += x ** o\n",
        "        temp //= 10\n",
        " \n",
        "    if num == sum:\n",
        "        print(\"The First armstrong number is\", num)\n",
        "        break"
      ],
      "execution_count": 2,
      "outputs": [
        {
          "output_type": "stream",
          "text": [
            "The First armstrong number is 1741725\n"
          ],
          "name": "stdout"
        }
      ]
    }
  ]
}