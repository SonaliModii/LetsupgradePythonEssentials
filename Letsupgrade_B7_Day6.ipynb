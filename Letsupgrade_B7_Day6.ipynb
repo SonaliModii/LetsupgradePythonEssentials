{
  "nbformat": 4,
  "nbformat_minor": 0,
  "metadata": {
    "colab": {
      "name": "Letsupgrade-B7-Day6",
      "provenance": [],
      "authorship_tag": "ABX9TyNaOwpfCdSlQ3fWZRFkeMnc",
      "include_colab_link": true
    },
    "kernelspec": {
      "name": "python3",
      "display_name": "Python 3"
    }
  },
  "cells": [
    {
      "cell_type": "markdown",
      "metadata": {
        "id": "view-in-github",
        "colab_type": "text"
      },
      "source": [
        "<a href=\"https://colab.research.google.com/github/SonaliModii/LetsupgradePythonEssentials/blob/master/Letsupgrade_B7_Day6.ipynb\" target=\"_parent\"><img src=\"https://colab.research.google.com/assets/colab-badge.svg\" alt=\"Open In Colab\"/></a>"
      ]
    },
    {
      "cell_type": "code",
      "metadata": {
        "id": "mxTfE0VulxAk",
        "colab_type": "code",
        "colab": {
          "base_uri": "https://localhost:8080/",
          "height": 148
        },
        "outputId": "3ed779a1-3f15-4ca7-d444-ab30b543dabd"
      },
      "source": [
        "#Ans 1.class Bank_Account: \n",
        " \n",
        "    def __init__(self): \n",
        "        self.ownername='Sonali Modi'\n",
        " \n",
        "        self.balance=0\n",
        " \n",
        "        print(\"Hello!!!Welcome to the Deposit & Withdrawal Machine\") \n",
        " \n",
        "  \n",
        " \n",
        "    def deposit(self): \n",
        " \n",
        "        amount=float(input(\"Enter amount to be Deposited: \")) \n",
        " \n",
        "        self.balance += amount \n",
        " \n",
        "        print(\"\\n Amount Deposited:\",amount) \n",
        " \n",
        "  \n",
        " \n",
        "    def withdraw(self): \n",
        " \n",
        "        amount = float(input(\"Enter amount to be Withdrawn: \")) \n",
        " \n",
        "        if self.balance>=amount: \n",
        " \n",
        "            self.balance-=amount \n",
        " \n",
        "            print(\"\\n You Withdrew:\", amount) \n",
        " \n",
        "        else: \n",
        " \n",
        "            print(\"\\n Insufficient balance  \") \n",
        " \n",
        "  \n",
        " \n",
        "    def display(self): \n",
        " \n",
        "        print(\"\\n Net Available Balance=\",self.balance) \n",
        " \n",
        "  \n",
        "# Driver code \n",
        " \n",
        "   \n",
        "# creating an object of class \n",
        " \n",
        "s = Bank_Account() \n",
        " \n",
        "   \n",
        "#Ans 2. Calling functions with that class object \n",
        "s.deposit() \n",
        "s.withdraw() \n",
        "s.display()\n",
        " \n",
        "#Cone class\n",
        "class Cone():\n",
        "    def __init__(self, r, h):\n",
        "        self.radius = r\n",
        "        self.height= h\n",
        " \n",
        "    def volume(self):\n",
        "        return ((1.0/3) * math.pi * self.radius * self.radius * self.height)\n",
        "    \n",
        "    def surfacearea(self):\n",
        "        return (math.pi * self.radius * (self.radius + l))\n",
        " \n",
        "NewCone = Cone(8, 10)\n",
        "print(NewCone.volume())\n",
        "print(NewCone.surfacearea())"
      ],
      "execution_count": 8,
      "outputs": [
        {
          "output_type": "error",
          "ename": "IndentationError",
          "evalue": "ignored",
          "traceback": [
            "\u001b[0;36m  File \u001b[0;32m\"<ipython-input-8-8a7dd76af386>\"\u001b[0;36m, line \u001b[0;32m3\u001b[0m\n\u001b[0;31m    def __init__(self):\u001b[0m\n\u001b[0m    ^\u001b[0m\n\u001b[0;31mIndentationError\u001b[0m\u001b[0;31m:\u001b[0m unexpected indent\n"
          ]
        }
      ]
    }
  ]
}