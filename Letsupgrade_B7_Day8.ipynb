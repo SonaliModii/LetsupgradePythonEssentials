{
  "nbformat": 4,
  "nbformat_minor": 0,
  "metadata": {
    "colab": {
      "name": "Letsupgrade-B7-Day8",
      "provenance": [],
      "collapsed_sections": [],
      "authorship_tag": "ABX9TyN7QscOUKU+9Fbck1uB9UUk",
      "include_colab_link": true
    },
    "kernelspec": {
      "name": "python3",
      "display_name": "Python 3"
    }
  },
  "cells": [
    {
      "cell_type": "markdown",
      "metadata": {
        "id": "view-in-github",
        "colab_type": "text"
      },
      "source": [
        "<a href=\"https://colab.research.google.com/github/SonaliModii/LetsupgradePythonEssentials/blob/master/Letsupgrade_B7_Day8.ipynb\" target=\"_parent\"><img src=\"https://colab.research.google.com/assets/colab-badge.svg\" alt=\"Open In Colab\"/></a>"
      ]
    },
    {
      "cell_type": "code",
      "metadata": {
        "id": "5ZMJ6vOMsW33",
        "colab_type": "code",
        "colab": {
          "base_uri": "https://localhost:8080/",
          "height": 51
        },
        "outputId": "81a8073c-ac56-4e0d-c3fd-9be77d1bcff1"
      },
      "source": [
        "#Decorator function\n",
        "def memoize(f):\n",
        "    memo = {}\n",
        "    def helper(x):\n",
        "        if x not in memo:            \n",
        "            memo[x] = f(x)\n",
        "        return memo[x]\n",
        "    return helper\n",
        "    \n",
        " \n",
        "def fib(n):\n",
        "    if n == 0:\n",
        "        return 0\n",
        "    elif n == 1:\n",
        "        return 1\n",
        "    else:\n",
        "        return fib(n-1) + fib(n-2)\n",
        " \n",
        "fib = memoize(fib)\n",
        " \n",
        "print(fib(40))\n",
        " \n",
        "#Ans 2\n",
        "try:\n",
        "    f = open('integers.txt')\n",
        "    s = f.readline()\n",
        "    i = int(s.strip())\n",
        "except (IOError, ValueError):\n",
        "    print(\"An I/O error or a ValueError occurred\")\n",
        "except:\n",
        "    print(\"An unexpected error occurred\")\n",
        "    raise"
      ],
      "execution_count": 8,
      "outputs": [
        {
          "output_type": "stream",
          "text": [
            "102334155\n",
            "An I/O error or a ValueError occurred\n"
          ],
          "name": "stdout"
        }
      ]
    }
  ]
}