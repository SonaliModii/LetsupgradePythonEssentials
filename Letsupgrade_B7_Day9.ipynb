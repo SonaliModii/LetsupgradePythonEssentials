{
  "nbformat": 4,
  "nbformat_minor": 0,
  "metadata": {
    "colab": {
      "name": "Letsupgrade-B7-Day9",
      "provenance": [],
      "collapsed_sections": [],
      "authorship_tag": "ABX9TyMo3f5WnYLmhJqiG2qFMI1I",
      "include_colab_link": true
    },
    "kernelspec": {
      "name": "python3",
      "display_name": "Python 3"
    }
  },
  "cells": [
    {
      "cell_type": "markdown",
      "metadata": {
        "id": "view-in-github",
        "colab_type": "text"
      },
      "source": [
        "<a href=\"https://colab.research.google.com/github/SonaliModii/LetsupgradePythonEssentials/blob/master/Letsupgrade_B7_Day9.ipynb\" target=\"_parent\"><img src=\"https://colab.research.google.com/assets/colab-badge.svg\" alt=\"Open In Colab\"/></a>"
      ]
    },
    {
      "cell_type": "code",
      "metadata": {
        "id": "XbqPhP8kwZFl",
        "colab_type": "code",
        "colab": {
          "base_uri": "https://localhost:8080/",
          "height": 34
        },
        "outputId": "7c7b1f95-b2dd-4990-e530-7dd002914ce8"
      },
      "source": [
        " \n",
        "# Ans 1\n",
        " \n",
        " %% writefile somecode.py\n",
        "num = 13\n",
        "if num > 1:\n",
        "for i in range(2, num//2):\n",
        "if (num % i) == 0:\n",
        "print(num, \"is not a prime number\")\n",
        "break\n",
        "else:\n",
        "print(num, \"is a prime number\")\n",
        "else:\n",
        "print(num, \"is not a prime number\")\n",
        "Writing somecode.py\n",
        "pylint 'somecode.py'\n",
        " \n",
        " \n",
        " \n",
        "#Ans 2Generator program\n",
        "for num in range(1,1000):\n",
        "  temp=num\n",
        "  sum=0\n",
        "  while temp>0:\n",
        "    digit=temp%10\n",
        "    sum=sum+digit**3\n",
        "    temp=temp//10\n",
        " \n",
        "  if sum==num:\n",
        "    print (num)"
      ],
      "execution_count": 11,
      "outputs": [
        {
          "output_type": "stream",
          "text": [
            "UsageError: Cell magic `%%` not found.\n"
          ],
          "name": "stderr"
        }
      ]
    }
  ]
}